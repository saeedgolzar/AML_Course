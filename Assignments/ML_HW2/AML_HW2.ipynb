{
  "nbformat": 4,
  "nbformat_minor": 0,
  "metadata": {
    "colab": {
      "name": "AML-HW2",
      "provenance": [],
      "collapsed_sections": [],
      "mount_file_id": "16G0FnpEQaFsOCXoNESWLZsfyIS-A_9s0",
      "authorship_tag": "ABX9TyOSumpTlnDt99ZC52hBLFMP",
      "include_colab_link": true
    },
    "kernelspec": {
      "name": "python3",
      "display_name": "Python 3"
    },
    "language_info": {
      "name": "python"
    }
  },
  "cells": [
    {
      "cell_type": "markdown",
      "metadata": {
        "id": "view-in-github",
        "colab_type": "text"
      },
      "source": [
        "<a href=\"https://colab.research.google.com/github/saeedgolzar/AML_Course/blob/main/Assignments/ML_HW2/AML_HW2.ipynb\" target=\"_parent\"><img src=\"https://colab.research.google.com/assets/colab-badge.svg\" alt=\"Open In Colab\"/></a>"
      ]
    },
    {
      "cell_type": "markdown",
      "source": [
        "# Applied Machine Learning Homework 2\n",
        "\n",
        "Saeed Golzar\n",
        "99124048\n",
        "\n",
        "Spring 2022"
      ],
      "metadata": {
        "id": "ioWh2ZBXY6S2"
      }
    },
    {
      "cell_type": "markdown",
      "source": [
        "#Part 1: Gaussian Naive Bayes"
      ],
      "metadata": {
        "id": "x-q_QdN-6bh4"
      }
    },
    {
      "cell_type": "markdown",
      "source": [
        "##Load Cryotherapy Data"
      ],
      "metadata": {
        "id": "G5UJfmvK7AkG"
      }
    },
    {
      "cell_type": "code",
      "execution_count": null,
      "metadata": {
        "id": "f1OUcTYxY4Ey",
        "colab": {
          "base_uri": "https://localhost:8080/",
          "height": 206
        },
        "outputId": "754ec2c9-02f4-41ea-eb3b-ed04e1a27187"
      },
      "outputs": [
        {
          "output_type": "execute_result",
          "data": {
            "text/plain": [
              "   sex  age   Time  Number_of_Warts  Type  Area  Result_of_Treatment\n",
              "0    1   35  12.00                5     1   100                    0\n",
              "1    1   29   7.00                5     1    96                    1\n",
              "2    1   50   8.00                1     3   132                    0\n",
              "3    1   32  11.75                7     3   750                    0\n",
              "4    1   67   9.25                1     1    42                    0"
            ],
            "text/html": [
              "\n",
              "  <div id=\"df-e9240004-28d4-4955-88b0-161b1515ee9b\">\n",
              "    <div class=\"colab-df-container\">\n",
              "      <div>\n",
              "<style scoped>\n",
              "    .dataframe tbody tr th:only-of-type {\n",
              "        vertical-align: middle;\n",
              "    }\n",
              "\n",
              "    .dataframe tbody tr th {\n",
              "        vertical-align: top;\n",
              "    }\n",
              "\n",
              "    .dataframe thead th {\n",
              "        text-align: right;\n",
              "    }\n",
              "</style>\n",
              "<table border=\"1\" class=\"dataframe\">\n",
              "  <thead>\n",
              "    <tr style=\"text-align: right;\">\n",
              "      <th></th>\n",
              "      <th>sex</th>\n",
              "      <th>age</th>\n",
              "      <th>Time</th>\n",
              "      <th>Number_of_Warts</th>\n",
              "      <th>Type</th>\n",
              "      <th>Area</th>\n",
              "      <th>Result_of_Treatment</th>\n",
              "    </tr>\n",
              "  </thead>\n",
              "  <tbody>\n",
              "    <tr>\n",
              "      <th>0</th>\n",
              "      <td>1</td>\n",
              "      <td>35</td>\n",
              "      <td>12.00</td>\n",
              "      <td>5</td>\n",
              "      <td>1</td>\n",
              "      <td>100</td>\n",
              "      <td>0</td>\n",
              "    </tr>\n",
              "    <tr>\n",
              "      <th>1</th>\n",
              "      <td>1</td>\n",
              "      <td>29</td>\n",
              "      <td>7.00</td>\n",
              "      <td>5</td>\n",
              "      <td>1</td>\n",
              "      <td>96</td>\n",
              "      <td>1</td>\n",
              "    </tr>\n",
              "    <tr>\n",
              "      <th>2</th>\n",
              "      <td>1</td>\n",
              "      <td>50</td>\n",
              "      <td>8.00</td>\n",
              "      <td>1</td>\n",
              "      <td>3</td>\n",
              "      <td>132</td>\n",
              "      <td>0</td>\n",
              "    </tr>\n",
              "    <tr>\n",
              "      <th>3</th>\n",
              "      <td>1</td>\n",
              "      <td>32</td>\n",
              "      <td>11.75</td>\n",
              "      <td>7</td>\n",
              "      <td>3</td>\n",
              "      <td>750</td>\n",
              "      <td>0</td>\n",
              "    </tr>\n",
              "    <tr>\n",
              "      <th>4</th>\n",
              "      <td>1</td>\n",
              "      <td>67</td>\n",
              "      <td>9.25</td>\n",
              "      <td>1</td>\n",
              "      <td>1</td>\n",
              "      <td>42</td>\n",
              "      <td>0</td>\n",
              "    </tr>\n",
              "  </tbody>\n",
              "</table>\n",
              "</div>\n",
              "      <button class=\"colab-df-convert\" onclick=\"convertToInteractive('df-e9240004-28d4-4955-88b0-161b1515ee9b')\"\n",
              "              title=\"Convert this dataframe to an interactive table.\"\n",
              "              style=\"display:none;\">\n",
              "        \n",
              "  <svg xmlns=\"http://www.w3.org/2000/svg\" height=\"24px\"viewBox=\"0 0 24 24\"\n",
              "       width=\"24px\">\n",
              "    <path d=\"M0 0h24v24H0V0z\" fill=\"none\"/>\n",
              "    <path d=\"M18.56 5.44l.94 2.06.94-2.06 2.06-.94-2.06-.94-.94-2.06-.94 2.06-2.06.94zm-11 1L8.5 8.5l.94-2.06 2.06-.94-2.06-.94L8.5 2.5l-.94 2.06-2.06.94zm10 10l.94 2.06.94-2.06 2.06-.94-2.06-.94-.94-2.06-.94 2.06-2.06.94z\"/><path d=\"M17.41 7.96l-1.37-1.37c-.4-.4-.92-.59-1.43-.59-.52 0-1.04.2-1.43.59L10.3 9.45l-7.72 7.72c-.78.78-.78 2.05 0 2.83L4 21.41c.39.39.9.59 1.41.59.51 0 1.02-.2 1.41-.59l7.78-7.78 2.81-2.81c.8-.78.8-2.07 0-2.86zM5.41 20L4 18.59l7.72-7.72 1.47 1.35L5.41 20z\"/>\n",
              "  </svg>\n",
              "      </button>\n",
              "      \n",
              "  <style>\n",
              "    .colab-df-container {\n",
              "      display:flex;\n",
              "      flex-wrap:wrap;\n",
              "      gap: 12px;\n",
              "    }\n",
              "\n",
              "    .colab-df-convert {\n",
              "      background-color: #E8F0FE;\n",
              "      border: none;\n",
              "      border-radius: 50%;\n",
              "      cursor: pointer;\n",
              "      display: none;\n",
              "      fill: #1967D2;\n",
              "      height: 32px;\n",
              "      padding: 0 0 0 0;\n",
              "      width: 32px;\n",
              "    }\n",
              "\n",
              "    .colab-df-convert:hover {\n",
              "      background-color: #E2EBFA;\n",
              "      box-shadow: 0px 1px 2px rgba(60, 64, 67, 0.3), 0px 1px 3px 1px rgba(60, 64, 67, 0.15);\n",
              "      fill: #174EA6;\n",
              "    }\n",
              "\n",
              "    [theme=dark] .colab-df-convert {\n",
              "      background-color: #3B4455;\n",
              "      fill: #D2E3FC;\n",
              "    }\n",
              "\n",
              "    [theme=dark] .colab-df-convert:hover {\n",
              "      background-color: #434B5C;\n",
              "      box-shadow: 0px 1px 3px 1px rgba(0, 0, 0, 0.15);\n",
              "      filter: drop-shadow(0px 1px 2px rgba(0, 0, 0, 0.3));\n",
              "      fill: #FFFFFF;\n",
              "    }\n",
              "  </style>\n",
              "\n",
              "      <script>\n",
              "        const buttonEl =\n",
              "          document.querySelector('#df-e9240004-28d4-4955-88b0-161b1515ee9b button.colab-df-convert');\n",
              "        buttonEl.style.display =\n",
              "          google.colab.kernel.accessAllowed ? 'block' : 'none';\n",
              "\n",
              "        async function convertToInteractive(key) {\n",
              "          const element = document.querySelector('#df-e9240004-28d4-4955-88b0-161b1515ee9b');\n",
              "          const dataTable =\n",
              "            await google.colab.kernel.invokeFunction('convertToInteractive',\n",
              "                                                     [key], {});\n",
              "          if (!dataTable) return;\n",
              "\n",
              "          const docLinkHtml = 'Like what you see? Visit the ' +\n",
              "            '<a target=\"_blank\" href=https://colab.research.google.com/notebooks/data_table.ipynb>data table notebook</a>'\n",
              "            + ' to learn more about interactive tables.';\n",
              "          element.innerHTML = '';\n",
              "          dataTable['output_type'] = 'display_data';\n",
              "          await google.colab.output.renderOutput(dataTable, element);\n",
              "          const docLink = document.createElement('div');\n",
              "          docLink.innerHTML = docLinkHtml;\n",
              "          element.appendChild(docLink);\n",
              "        }\n",
              "      </script>\n",
              "    </div>\n",
              "  </div>\n",
              "  "
            ]
          },
          "metadata": {},
          "execution_count": 44
        }
      ],
      "source": [
        "import pandas as pd\n",
        "path = \"https://raw.githubusercontent.com/saeedgolzar/AML_Course/main/Assignments/ML_HW2/Cryotherapy.xlsx\"\n",
        "Cryotherapy = pd.read_excel(path)\n",
        "\n",
        "X = Cryotherapy.drop(['Result_of_Treatment'], axis = 1)\n",
        "y = Cryotherapy.Result_of_Treatment\n",
        "\n",
        "Cryotherapy.head()"
      ]
    },
    {
      "cell_type": "code",
      "source": [
        "import numpy as np\n",
        "from sklearn.naive_bayes import GaussianNB\n",
        "from sklearn.model_selection import KFold, cross_val_score\n",
        "\n",
        "clf = GaussianNB()\n",
        "K = 10\n",
        "cv_scores = cross_val_score(clf, X, y, cv=K)\n",
        "print(cv_scores,\"\\n\")\n",
        "print('Cross validation scores mean:{}'.format(round(np.mean(cv_scores),3)))"
      ],
      "metadata": {
        "id": "WuBbHhhwYAbW",
        "colab": {
          "base_uri": "https://localhost:8080/"
        },
        "outputId": "71dd79ba-4291-42a5-fd36-4e70c867940e"
      },
      "execution_count": null,
      "outputs": [
        {
          "output_type": "stream",
          "name": "stdout",
          "text": [
            "[0.88888889 0.77777778 0.88888889 0.66666667 0.88888889 0.77777778\n",
            " 0.88888889 0.88888889 0.77777778 0.88888889] \n",
            "\n",
            "Cross validation scores mean:0.833\n"
          ]
        }
      ]
    },
    {
      "cell_type": "markdown",
      "source": [
        "#Part 2: Logistic regression"
      ],
      "metadata": {
        "id": "Ko6elhvZ6opl"
      }
    },
    {
      "cell_type": "markdown",
      "source": [
        "##Cryotherapy"
      ],
      "metadata": {
        "id": "1_2dLpoJNGTQ"
      }
    },
    {
      "cell_type": "code",
      "source": [
        "import numpy as np\n",
        "from sklearn.linear_model import LogisticRegression\n",
        "from sklearn.model_selection import KFold, cross_val_score\n",
        "\n",
        "clf = LogisticRegression(solver='lbfgs', max_iter=200)\n",
        "K = 10\n",
        "cv_scores = cross_val_score(clf, X, y, cv=K)\n",
        "print(cv_scores,\"\\n\")\n",
        "print('Cross validation scores mean:{}'.format(round(np.mean(cv_scores),3)))"
      ],
      "metadata": {
        "colab": {
          "base_uri": "https://localhost:8080/"
        },
        "id": "-BW9Qx_WKvtk",
        "outputId": "343ccf92-0ff8-4888-a0b7-2125b80d5301"
      },
      "execution_count": null,
      "outputs": [
        {
          "output_type": "stream",
          "name": "stdout",
          "text": [
            "[0.88888889 0.88888889 0.88888889 0.77777778 0.88888889 0.88888889\n",
            " 1.         0.88888889 0.77777778 0.88888889] \n",
            "\n",
            "Cross validation scores mean:0.878\n"
          ]
        }
      ]
    },
    {
      "cell_type": "markdown",
      "source": [
        "##Finger Digit"
      ],
      "metadata": {
        "id": "hPzSMcO6NNdi"
      }
    },
    {
      "cell_type": "markdown",
      "source": [
        "###Load & Extract Dataset"
      ],
      "metadata": {
        "id": "CTI8Eq5rtRG8"
      }
    },
    {
      "cell_type": "code",
      "source": [
        "import requests\n",
        "from io import BytesIO\n",
        "import zipfile\n",
        "from numpy import asarray\n",
        "\n",
        "URL = 'https://raw.githubusercontent.com/saeedgolzar/AML_Course/main/Assignments/ML_HW2/finger_digit.zip'\n",
        "response = requests.get(URL)\n",
        "imgzip = zipfile.ZipFile(BytesIO(response.content))\n",
        "imgzip.extractall()"
      ],
      "metadata": {
        "id": "BczjeZOGWvUk"
      },
      "execution_count": 62,
      "outputs": []
    },
    {
      "cell_type": "markdown",
      "source": [
        "###Covert Images to Array"
      ],
      "metadata": {
        "id": "i5OR6RsItaaz"
      }
    },
    {
      "cell_type": "code",
      "source": [
        "import os\n",
        "from PIL import Image\n",
        "from numpy import asarray\n",
        "\n",
        "X, X_50, y = ([] for i in range(3))\n",
        "\n",
        "for file in os.listdir('train'):\n",
        "   img = Image.open(os.path.join('/content/train/', file))\n",
        "   img_50 = img.resize((50,50))\n",
        "   img = asarray(img)\n",
        "   X.append(asarray(img).flatten()) #Orginal Images\n",
        "   X_50.append(asarray(img_50).flatten()) #Resized Images\n",
        "   y.append(int(file[len(file)-5:len(file)-4]))"
      ],
      "metadata": {
        "id": "i3ade6ypT3dv"
      },
      "execution_count": null,
      "outputs": []
    },
    {
      "cell_type": "markdown",
      "source": [
        "###Train Logistic regression Model\n"
      ],
      "metadata": {
        "id": "beA3Bos2uQzK"
      }
    },
    {
      "cell_type": "code",
      "source": [
        "from sklearn.model_selection import train_test_split\n",
        "from sklearn.linear_model import LogisticRegression\n",
        "\n",
        "X_train, X_test, y_train, y_test = train_test_split(X, y , test_size=0.2)\n",
        "\n",
        "clf = LogisticRegression(solver='lbfgs', max_iter=200)\n",
        "clf.fit(X_train, y_train)"
      ],
      "metadata": {
        "colab": {
          "base_uri": "https://localhost:8080/"
        },
        "id": "YcrO459GuaP9",
        "outputId": "45b757d6-8453-492e-c2f4-7083316f2bb3"
      },
      "execution_count": null,
      "outputs": [
        {
          "output_type": "execute_result",
          "data": {
            "text/plain": [
              "LogisticRegression(max_iter=200)"
            ]
          },
          "metadata": {},
          "execution_count": 49
        }
      ]
    },
    {
      "cell_type": "code",
      "source": [
        "from sklearn import metrics\n",
        "\n",
        "score = clf.score(X_test, y_test)\n",
        "y_pred = clf.predict(X_test)\n",
        "precision = metrics.precision_score(y_test, y_pred, average=None)\n",
        "recall = metrics.recall_score(y_test, y_pred, average=None)\n",
        "confusion_matrix = metrics.confusion_matrix(y_test, y_pred)\n",
        "\n",
        "print('Score=', score, 'Precision=', precision, 'Recall=', recall)"
      ],
      "metadata": {
        "colab": {
          "base_uri": "https://localhost:8080/"
        },
        "id": "2txWeXi76L1Z",
        "outputId": "861733d5-0dbf-4ca7-d8ab-dc42ec351d24"
      },
      "execution_count": null,
      "outputs": [
        {
          "output_type": "stream",
          "name": "stdout",
          "text": [
            "Score= 1.0 Precision= [1. 1. 1. 1. 1. 1.] Recall= [1. 1. 1. 1. 1. 1.]\n"
          ]
        }
      ]
    },
    {
      "cell_type": "markdown",
      "source": [
        "###Train Model by resized images"
      ],
      "metadata": {
        "id": "8Xq5OXZT7u02"
      }
    },
    {
      "cell_type": "code",
      "source": [
        "X50_train, X50_test, y50_train, y50_test = train_test_split(X_50, y , test_size=0.2)\n",
        "\n",
        "clf = LogisticRegression(solver='lbfgs', max_iter=300)\n",
        "clf.fit(X50_train, y50_train)"
      ],
      "metadata": {
        "colab": {
          "base_uri": "https://localhost:8080/"
        },
        "id": "73WyzV8-7kin",
        "outputId": "a9d53a78-76b3-492d-d7d9-d9f739453d3f"
      },
      "execution_count": 59,
      "outputs": [
        {
          "output_type": "execute_result",
          "data": {
            "text/plain": [
              "LogisticRegression(max_iter=300)"
            ]
          },
          "metadata": {},
          "execution_count": 59
        }
      ]
    },
    {
      "cell_type": "code",
      "source": [
        "score = clf.score(X50_test, y50_test)\n",
        "y50_pred = clf.predict(X50_test)\n",
        "precision = metrics.precision_score(y50_test, y50_pred, average=None)\n",
        "recall = metrics.recall_score(y50_test, y50_pred, average=None)\n",
        "confusion_matrix = metrics.confusion_matrix(y50_test, y50_pred)\n",
        "\n",
        "print('Score=', score, 'Precision=', precision, 'Recall=', recall)"
      ],
      "metadata": {
        "colab": {
          "base_uri": "https://localhost:8080/"
        },
        "id": "wydfM64_7_M-",
        "outputId": "c6dfafae-92f4-452b-aac0-cf3042cccf64"
      },
      "execution_count": 61,
      "outputs": [
        {
          "output_type": "stream",
          "name": "stdout",
          "text": [
            "Score= 0.9993498049414824 Precision= [1.       1.       0.996139 1.       1.       1.      ] Recall= [1.         1.         1.         0.99565217 1.         1.        ]\n"
          ]
        }
      ]
    }
  ]
}